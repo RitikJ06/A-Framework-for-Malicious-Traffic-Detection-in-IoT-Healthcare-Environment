{
 "cells": [
  {
   "cell_type": "code",
   "execution_count": 36,
   "id": "ce35f0a1",
   "metadata": {},
   "outputs": [],
   "source": [
    "import numpy as np\n",
    "import pandas as pd\n",
    "import os\n",
    "from sklearn.model_selection import train_test_split"
   ]
  },
  {
   "cell_type": "markdown",
   "id": "7c3a8e02",
   "metadata": {},
   "source": [
    "### Data Preprocessing"
   ]
  },
  {
   "cell_type": "code",
   "execution_count": 37,
   "id": "72f9e328",
   "metadata": {},
   "outputs": [
    {
     "data": {
      "text/plain": [
       "['Attack.csv', 'environmentMonitoring.csv', 'patientMonitoring.csv']"
      ]
     },
     "execution_count": 37,
     "metadata": {},
     "output_type": "execute_result"
    }
   ],
   "source": [
    "path = 'data/'\n",
    "csvs = os.listdir(path)\n",
    "csvs"
   ]
  },
  {
   "cell_type": "code",
   "execution_count": 38,
   "id": "927544b9",
   "metadata": {},
   "outputs": [
    {
     "name": "stdout",
     "output_type": "stream",
     "text": [
      "---- Reading Attack.csv ----\n"
     ]
    },
    {
     "name": "stderr",
     "output_type": "stream",
     "text": [
      "c:\\Users\\Ritik Jangid\\AppData\\Local\\Programs\\Python\\Python310\\lib\\site-packages\\IPython\\core\\interactiveshell.py:3457: DtypeWarning: Columns (26,28,35) have mixed types.Specify dtype option on import or set low_memory=False.\n",
      "  exec(code_obj, self.user_global_ns, self.user_ns)\n"
     ]
    },
    {
     "name": "stdout",
     "output_type": "stream",
     "text": [
      "df.shape: (80126, 52)\n",
      "empty_cols: 0\n",
      "[]\n",
      "df1.shape: (80126, 52)\n",
      "---- Reading environmentMonitoring.csv ----\n",
      "df.shape: (31758, 52)\n",
      "empty_cols: 0\n",
      "[]\n",
      "df1.shape: (111884, 52)\n",
      "---- Reading patientMonitoring.csv ----\n",
      "df.shape: (76810, 52)\n",
      "empty_cols: 0\n",
      "[]\n",
      "df1.shape: (188694, 52)\n"
     ]
    }
   ],
   "source": [
    "df1 = pd.DataFrame()\n",
    "\n",
    "for csv in csvs:\n",
    "  print(f'---- Reading {csv} ----')\n",
    "  df = pd.read_csv(path+csv)\n",
    "  print(f'df.shape: {df.shape}')\n",
    "  empty_cols = [col for col in df.columns if df[col].isnull().all()]\n",
    "  print(f'empty_cols: {len(empty_cols)}')\n",
    "  print(empty_cols)\n",
    "  df.fillna(0, inplace=True)\n",
    "  df1 = df1.append(df, ignore_index=True)\n",
    "  print(f'df1.shape: {df1.shape}')"
   ]
  },
  {
   "cell_type": "code",
   "execution_count": 39,
   "id": "226e6fdf",
   "metadata": {},
   "outputs": [],
   "source": [
    "feats = ['ip.src', 'ip.dst', 'tcp.srcport', 'tcp.dstport','mqtt.topic', 'mqtt.msg', 'tcp.payload','mqtt.clientid', 'mqtt.conflags', 'mqtt.conack.flags', 'class']\n",
    "\n",
    "\n",
    "fs1 =  ['frame.time_delta', 'tcp.flags', 'tcp.time_delta', 'tcp.connection.rst', 'tcp.flags.ack', 'tcp.flags.push', 'tcp.flags.reset', 'tcp.hdr_len', \n",
    "        'mqtt.clientid_len', 'mqtt.hdrflags', 'mqtt.msgtype', 'mqtt.qos', 'mqtt.ver', 'ip.proto', 'ip.ttl', 'label']"
   ]
  },
  {
   "cell_type": "code",
   "execution_count": 40,
   "id": "b3114410",
   "metadata": {},
   "outputs": [
    {
     "data": {
      "text/plain": [
       "(188694, 41)"
      ]
     },
     "execution_count": 40,
     "metadata": {},
     "output_type": "execute_result"
    }
   ],
   "source": [
    "df1.drop(labels=feats, axis=1, inplace=True)\n",
    "df1.shape"
   ]
  },
  {
   "cell_type": "code",
   "execution_count": 41,
   "id": "7db7356e",
   "metadata": {},
   "outputs": [
    {
     "data": {
      "text/html": [
       "<div>\n",
       "<style scoped>\n",
       "    .dataframe tbody tr th:only-of-type {\n",
       "        vertical-align: middle;\n",
       "    }\n",
       "\n",
       "    .dataframe tbody tr th {\n",
       "        vertical-align: top;\n",
       "    }\n",
       "\n",
       "    .dataframe thead th {\n",
       "        text-align: right;\n",
       "    }\n",
       "</style>\n",
       "<table border=\"1\" class=\"dataframe\">\n",
       "  <thead>\n",
       "    <tr style=\"text-align: right;\">\n",
       "      <th></th>\n",
       "      <th>frame.time_delta</th>\n",
       "      <th>frame.time_relative</th>\n",
       "      <th>frame.len</th>\n",
       "      <th>tcp.flags</th>\n",
       "      <th>tcp.time_delta</th>\n",
       "      <th>tcp.len</th>\n",
       "      <th>tcp.ack</th>\n",
       "      <th>tcp.connection.fin</th>\n",
       "      <th>tcp.connection.rst</th>\n",
       "      <th>tcp.connection.sack</th>\n",
       "      <th>...</th>\n",
       "      <th>mqtt.len</th>\n",
       "      <th>mqtt.msgtype</th>\n",
       "      <th>mqtt.qos</th>\n",
       "      <th>mqtt.retain</th>\n",
       "      <th>mqtt.topic_len</th>\n",
       "      <th>mqtt.ver</th>\n",
       "      <th>mqtt.willmsg_len</th>\n",
       "      <th>ip.proto</th>\n",
       "      <th>ip.ttl</th>\n",
       "      <th>label</th>\n",
       "    </tr>\n",
       "  </thead>\n",
       "  <tbody>\n",
       "    <tr>\n",
       "      <th>0</th>\n",
       "      <td>0.000000</td>\n",
       "      <td>0.000000</td>\n",
       "      <td>74</td>\n",
       "      <td>0x00000002</td>\n",
       "      <td>0.000000</td>\n",
       "      <td>0</td>\n",
       "      <td>0</td>\n",
       "      <td>0.0</td>\n",
       "      <td>0.0</td>\n",
       "      <td>0.0</td>\n",
       "      <td>...</td>\n",
       "      <td>0.0</td>\n",
       "      <td>0.0</td>\n",
       "      <td>0.0</td>\n",
       "      <td>0.0</td>\n",
       "      <td>0.0</td>\n",
       "      <td>0.0</td>\n",
       "      <td>0.0</td>\n",
       "      <td>6</td>\n",
       "      <td>64</td>\n",
       "      <td>1</td>\n",
       "    </tr>\n",
       "    <tr>\n",
       "      <th>1</th>\n",
       "      <td>0.000052</td>\n",
       "      <td>0.000052</td>\n",
       "      <td>74</td>\n",
       "      <td>0x00000012</td>\n",
       "      <td>0.000052</td>\n",
       "      <td>0</td>\n",
       "      <td>1</td>\n",
       "      <td>0.0</td>\n",
       "      <td>0.0</td>\n",
       "      <td>1.0</td>\n",
       "      <td>...</td>\n",
       "      <td>0.0</td>\n",
       "      <td>0.0</td>\n",
       "      <td>0.0</td>\n",
       "      <td>0.0</td>\n",
       "      <td>0.0</td>\n",
       "      <td>0.0</td>\n",
       "      <td>0.0</td>\n",
       "      <td>6</td>\n",
       "      <td>64</td>\n",
       "      <td>1</td>\n",
       "    </tr>\n",
       "    <tr>\n",
       "      <th>2</th>\n",
       "      <td>0.000008</td>\n",
       "      <td>0.000060</td>\n",
       "      <td>74</td>\n",
       "      <td>0x00000002</td>\n",
       "      <td>0.000000</td>\n",
       "      <td>0</td>\n",
       "      <td>0</td>\n",
       "      <td>0.0</td>\n",
       "      <td>0.0</td>\n",
       "      <td>0.0</td>\n",
       "      <td>...</td>\n",
       "      <td>0.0</td>\n",
       "      <td>0.0</td>\n",
       "      <td>0.0</td>\n",
       "      <td>0.0</td>\n",
       "      <td>0.0</td>\n",
       "      <td>0.0</td>\n",
       "      <td>0.0</td>\n",
       "      <td>6</td>\n",
       "      <td>64</td>\n",
       "      <td>1</td>\n",
       "    </tr>\n",
       "    <tr>\n",
       "      <th>3</th>\n",
       "      <td>0.000012</td>\n",
       "      <td>0.000072</td>\n",
       "      <td>74</td>\n",
       "      <td>0x00000012</td>\n",
       "      <td>0.000012</td>\n",
       "      <td>0</td>\n",
       "      <td>1</td>\n",
       "      <td>0.0</td>\n",
       "      <td>0.0</td>\n",
       "      <td>1.0</td>\n",
       "      <td>...</td>\n",
       "      <td>0.0</td>\n",
       "      <td>0.0</td>\n",
       "      <td>0.0</td>\n",
       "      <td>0.0</td>\n",
       "      <td>0.0</td>\n",
       "      <td>0.0</td>\n",
       "      <td>0.0</td>\n",
       "      <td>6</td>\n",
       "      <td>64</td>\n",
       "      <td>1</td>\n",
       "    </tr>\n",
       "    <tr>\n",
       "      <th>4</th>\n",
       "      <td>0.000003</td>\n",
       "      <td>0.000075</td>\n",
       "      <td>74</td>\n",
       "      <td>0x00000002</td>\n",
       "      <td>0.000000</td>\n",
       "      <td>0</td>\n",
       "      <td>0</td>\n",
       "      <td>0.0</td>\n",
       "      <td>0.0</td>\n",
       "      <td>0.0</td>\n",
       "      <td>...</td>\n",
       "      <td>0.0</td>\n",
       "      <td>0.0</td>\n",
       "      <td>0.0</td>\n",
       "      <td>0.0</td>\n",
       "      <td>0.0</td>\n",
       "      <td>0.0</td>\n",
       "      <td>0.0</td>\n",
       "      <td>6</td>\n",
       "      <td>64</td>\n",
       "      <td>1</td>\n",
       "    </tr>\n",
       "  </tbody>\n",
       "</table>\n",
       "<p>5 rows × 41 columns</p>\n",
       "</div>"
      ],
      "text/plain": [
       "   frame.time_delta  frame.time_relative  frame.len   tcp.flags  \\\n",
       "0          0.000000             0.000000         74  0x00000002   \n",
       "1          0.000052             0.000052         74  0x00000012   \n",
       "2          0.000008             0.000060         74  0x00000002   \n",
       "3          0.000012             0.000072         74  0x00000012   \n",
       "4          0.000003             0.000075         74  0x00000002   \n",
       "\n",
       "   tcp.time_delta  tcp.len  tcp.ack  tcp.connection.fin  tcp.connection.rst  \\\n",
       "0        0.000000        0        0                 0.0                 0.0   \n",
       "1        0.000052        0        1                 0.0                 0.0   \n",
       "2        0.000000        0        0                 0.0                 0.0   \n",
       "3        0.000012        0        1                 0.0                 0.0   \n",
       "4        0.000000        0        0                 0.0                 0.0   \n",
       "\n",
       "   tcp.connection.sack  ...  mqtt.len  mqtt.msgtype  mqtt.qos  mqtt.retain  \\\n",
       "0                  0.0  ...       0.0           0.0       0.0          0.0   \n",
       "1                  1.0  ...       0.0           0.0       0.0          0.0   \n",
       "2                  0.0  ...       0.0           0.0       0.0          0.0   \n",
       "3                  1.0  ...       0.0           0.0       0.0          0.0   \n",
       "4                  0.0  ...       0.0           0.0       0.0          0.0   \n",
       "\n",
       "   mqtt.topic_len  mqtt.ver  mqtt.willmsg_len  ip.proto  ip.ttl  label  \n",
       "0             0.0       0.0               0.0         6      64      1  \n",
       "1             0.0       0.0               0.0         6      64      1  \n",
       "2             0.0       0.0               0.0         6      64      1  \n",
       "3             0.0       0.0               0.0         6      64      1  \n",
       "4             0.0       0.0               0.0         6      64      1  \n",
       "\n",
       "[5 rows x 41 columns]"
      ]
     },
     "execution_count": 41,
     "metadata": {},
     "output_type": "execute_result"
    }
   ],
   "source": [
    "df1.head()"
   ]
  },
  {
   "cell_type": "code",
   "execution_count": 42,
   "id": "6d2c6fa0",
   "metadata": {},
   "outputs": [
    {
     "data": {
      "text/plain": [
       "0    108568\n",
       "1     80126\n",
       "Name: label, dtype: int64"
      ]
     },
     "execution_count": 42,
     "metadata": {},
     "output_type": "execute_result"
    }
   ],
   "source": [
    "df1['label'].value_counts()"
   ]
  },
  {
   "cell_type": "markdown",
   "id": "71ed3ef7",
   "metadata": {},
   "source": [
    "#### Label Encoding"
   ]
  },
  {
   "cell_type": "code",
   "execution_count": 43,
   "id": "88db7594",
   "metadata": {},
   "outputs": [],
   "source": [
    "from sklearn import preprocessing\n",
    "label_encoder = preprocessing.LabelEncoder()\n",
    "\n",
    "df1['tcp.flags']= label_encoder.fit_transform(df1['tcp.flags'])\n",
    "df1['tcp.checksum']= label_encoder.fit_transform(df1['tcp.checksum'])\n",
    "df1['mqtt.hdrflags']= label_encoder.fit_transform(df1['mqtt.hdrflags'])\n"
   ]
  },
  {
   "cell_type": "code",
   "execution_count": 44,
   "id": "2945781d",
   "metadata": {},
   "outputs": [
    {
     "data": {
      "text/html": [
       "<div>\n",
       "<style scoped>\n",
       "    .dataframe tbody tr th:only-of-type {\n",
       "        vertical-align: middle;\n",
       "    }\n",
       "\n",
       "    .dataframe tbody tr th {\n",
       "        vertical-align: top;\n",
       "    }\n",
       "\n",
       "    .dataframe thead th {\n",
       "        text-align: right;\n",
       "    }\n",
       "</style>\n",
       "<table border=\"1\" class=\"dataframe\">\n",
       "  <thead>\n",
       "    <tr style=\"text-align: right;\">\n",
       "      <th></th>\n",
       "      <th>frame.time_delta</th>\n",
       "      <th>frame.time_relative</th>\n",
       "      <th>frame.len</th>\n",
       "      <th>tcp.flags</th>\n",
       "      <th>tcp.time_delta</th>\n",
       "      <th>tcp.len</th>\n",
       "      <th>tcp.ack</th>\n",
       "      <th>tcp.connection.fin</th>\n",
       "      <th>tcp.connection.rst</th>\n",
       "      <th>tcp.connection.sack</th>\n",
       "      <th>...</th>\n",
       "      <th>mqtt.len</th>\n",
       "      <th>mqtt.msgtype</th>\n",
       "      <th>mqtt.qos</th>\n",
       "      <th>mqtt.retain</th>\n",
       "      <th>mqtt.topic_len</th>\n",
       "      <th>mqtt.ver</th>\n",
       "      <th>mqtt.willmsg_len</th>\n",
       "      <th>ip.proto</th>\n",
       "      <th>ip.ttl</th>\n",
       "      <th>label</th>\n",
       "    </tr>\n",
       "  </thead>\n",
       "  <tbody>\n",
       "    <tr>\n",
       "      <th>0</th>\n",
       "      <td>0.000000</td>\n",
       "      <td>0.000000</td>\n",
       "      <td>74</td>\n",
       "      <td>0</td>\n",
       "      <td>0.000000</td>\n",
       "      <td>0</td>\n",
       "      <td>0</td>\n",
       "      <td>0.0</td>\n",
       "      <td>0.0</td>\n",
       "      <td>0.0</td>\n",
       "      <td>...</td>\n",
       "      <td>0.0</td>\n",
       "      <td>0.0</td>\n",
       "      <td>0.0</td>\n",
       "      <td>0.0</td>\n",
       "      <td>0.0</td>\n",
       "      <td>0.0</td>\n",
       "      <td>0.0</td>\n",
       "      <td>6</td>\n",
       "      <td>64</td>\n",
       "      <td>1</td>\n",
       "    </tr>\n",
       "    <tr>\n",
       "      <th>1</th>\n",
       "      <td>0.000052</td>\n",
       "      <td>0.000052</td>\n",
       "      <td>74</td>\n",
       "      <td>4</td>\n",
       "      <td>0.000052</td>\n",
       "      <td>0</td>\n",
       "      <td>1</td>\n",
       "      <td>0.0</td>\n",
       "      <td>0.0</td>\n",
       "      <td>1.0</td>\n",
       "      <td>...</td>\n",
       "      <td>0.0</td>\n",
       "      <td>0.0</td>\n",
       "      <td>0.0</td>\n",
       "      <td>0.0</td>\n",
       "      <td>0.0</td>\n",
       "      <td>0.0</td>\n",
       "      <td>0.0</td>\n",
       "      <td>6</td>\n",
       "      <td>64</td>\n",
       "      <td>1</td>\n",
       "    </tr>\n",
       "    <tr>\n",
       "      <th>2</th>\n",
       "      <td>0.000008</td>\n",
       "      <td>0.000060</td>\n",
       "      <td>74</td>\n",
       "      <td>0</td>\n",
       "      <td>0.000000</td>\n",
       "      <td>0</td>\n",
       "      <td>0</td>\n",
       "      <td>0.0</td>\n",
       "      <td>0.0</td>\n",
       "      <td>0.0</td>\n",
       "      <td>...</td>\n",
       "      <td>0.0</td>\n",
       "      <td>0.0</td>\n",
       "      <td>0.0</td>\n",
       "      <td>0.0</td>\n",
       "      <td>0.0</td>\n",
       "      <td>0.0</td>\n",
       "      <td>0.0</td>\n",
       "      <td>6</td>\n",
       "      <td>64</td>\n",
       "      <td>1</td>\n",
       "    </tr>\n",
       "    <tr>\n",
       "      <th>3</th>\n",
       "      <td>0.000012</td>\n",
       "      <td>0.000072</td>\n",
       "      <td>74</td>\n",
       "      <td>4</td>\n",
       "      <td>0.000012</td>\n",
       "      <td>0</td>\n",
       "      <td>1</td>\n",
       "      <td>0.0</td>\n",
       "      <td>0.0</td>\n",
       "      <td>1.0</td>\n",
       "      <td>...</td>\n",
       "      <td>0.0</td>\n",
       "      <td>0.0</td>\n",
       "      <td>0.0</td>\n",
       "      <td>0.0</td>\n",
       "      <td>0.0</td>\n",
       "      <td>0.0</td>\n",
       "      <td>0.0</td>\n",
       "      <td>6</td>\n",
       "      <td>64</td>\n",
       "      <td>1</td>\n",
       "    </tr>\n",
       "    <tr>\n",
       "      <th>4</th>\n",
       "      <td>0.000003</td>\n",
       "      <td>0.000075</td>\n",
       "      <td>74</td>\n",
       "      <td>0</td>\n",
       "      <td>0.000000</td>\n",
       "      <td>0</td>\n",
       "      <td>0</td>\n",
       "      <td>0.0</td>\n",
       "      <td>0.0</td>\n",
       "      <td>0.0</td>\n",
       "      <td>...</td>\n",
       "      <td>0.0</td>\n",
       "      <td>0.0</td>\n",
       "      <td>0.0</td>\n",
       "      <td>0.0</td>\n",
       "      <td>0.0</td>\n",
       "      <td>0.0</td>\n",
       "      <td>0.0</td>\n",
       "      <td>6</td>\n",
       "      <td>64</td>\n",
       "      <td>1</td>\n",
       "    </tr>\n",
       "  </tbody>\n",
       "</table>\n",
       "<p>5 rows × 41 columns</p>\n",
       "</div>"
      ],
      "text/plain": [
       "   frame.time_delta  frame.time_relative  frame.len  tcp.flags  \\\n",
       "0          0.000000             0.000000         74          0   \n",
       "1          0.000052             0.000052         74          4   \n",
       "2          0.000008             0.000060         74          0   \n",
       "3          0.000012             0.000072         74          4   \n",
       "4          0.000003             0.000075         74          0   \n",
       "\n",
       "   tcp.time_delta  tcp.len  tcp.ack  tcp.connection.fin  tcp.connection.rst  \\\n",
       "0        0.000000        0        0                 0.0                 0.0   \n",
       "1        0.000052        0        1                 0.0                 0.0   \n",
       "2        0.000000        0        0                 0.0                 0.0   \n",
       "3        0.000012        0        1                 0.0                 0.0   \n",
       "4        0.000000        0        0                 0.0                 0.0   \n",
       "\n",
       "   tcp.connection.sack  ...  mqtt.len  mqtt.msgtype  mqtt.qos  mqtt.retain  \\\n",
       "0                  0.0  ...       0.0           0.0       0.0          0.0   \n",
       "1                  1.0  ...       0.0           0.0       0.0          0.0   \n",
       "2                  0.0  ...       0.0           0.0       0.0          0.0   \n",
       "3                  1.0  ...       0.0           0.0       0.0          0.0   \n",
       "4                  0.0  ...       0.0           0.0       0.0          0.0   \n",
       "\n",
       "   mqtt.topic_len  mqtt.ver  mqtt.willmsg_len  ip.proto  ip.ttl  label  \n",
       "0             0.0       0.0               0.0         6      64      1  \n",
       "1             0.0       0.0               0.0         6      64      1  \n",
       "2             0.0       0.0               0.0         6      64      1  \n",
       "3             0.0       0.0               0.0         6      64      1  \n",
       "4             0.0       0.0               0.0         6      64      1  \n",
       "\n",
       "[5 rows x 41 columns]"
      ]
     },
     "execution_count": 44,
     "metadata": {},
     "output_type": "execute_result"
    }
   ],
   "source": [
    "df1.head()"
   ]
  },
  {
   "cell_type": "markdown",
   "id": "7e4132cc",
   "metadata": {},
   "source": [
    "#### Feature Selection"
   ]
  },
  {
   "cell_type": "code",
   "execution_count": 45,
   "id": "949bdd08",
   "metadata": {},
   "outputs": [
    {
     "name": "stdout",
     "output_type": "stream",
     "text": [
      "---------- SelectFromModel LogisticRegression -----------\n",
      "embeded_LR_support [ True  True False  True  True  True False False  True False]\n",
      "6 selected features\n",
      "embeded_LR_features:  ['frame.time_delta', 'tcp.time_delta', 'tcp.flags.ack', 'tcp.flags.push', 'tcp.flags.reset', 'mqtt.qos']\n"
     ]
    }
   ],
   "source": [
    "from sklearn.feature_selection import SelectFromModel\n",
    "from sklearn.linear_model import LogisticRegression\n",
    "\n",
    "print('---------- SelectFromModel LogisticRegression -----------')\n",
    "embeded_LR_selector = SelectFromModel(LogisticRegression(penalty=\"l1\", solver='liblinear'), threshold='0.9*median',\n",
    "                                      max_features = 10)\n",
    "embeded_LR_selector.fit(X_train, y_train)\n",
    "embeded_LR_support = embeded_LR_selector.get_support()\n",
    "print('embeded_LR_support',embeded_LR_support)\n",
    "#embeded_lr_selector = embeded_lr_selector.scores_\n",
    "#embeded_lr_support = embeded_lr_selector.get_support()\n",
    "#embeded_LR_feature = df.loc[:,embeded_LR_support].columns.tolist()\n",
    "\n",
    "embeded_LR_feature = X_train.loc[:,embeded_LR_support].columns.tolist()\n",
    "\n",
    "print(len(embeded_LR_feature), 'selected features')\n",
    "print('embeded_LR_features: ', embeded_LR_feature)"
   ]
  },
  {
   "cell_type": "code",
   "execution_count": 46,
   "id": "9aabcb10",
   "metadata": {},
   "outputs": [],
   "source": [
    "# ['frame.time_delta', 'tcp.time_delta', 'tcp.flags.ack', 'tcp.flags.push', 'tcp.flags.reset', 'mqtt.hdrflags', 'mqtt.msgtype', 'mqtt.qos', 'mqtt.retain', 'mqtt.ver']"
   ]
  },
  {
   "cell_type": "code",
   "execution_count": 47,
   "id": "fb9ac82f",
   "metadata": {},
   "outputs": [
    {
     "data": {
      "text/plain": [
       "(188694, 11)"
      ]
     },
     "execution_count": 47,
     "metadata": {},
     "output_type": "execute_result"
    }
   ],
   "source": [
    "fs2 = ['frame.time_delta', 'tcp.time_delta', 'tcp.connection.rst', 'tcp.flags.ack', 'tcp.flags.push', 'tcp.flags.reset', 'mqtt.hdrflags', 'mqtt.msgtype', 'mqtt.qos', 'mqtt.ver', 'label']\n",
    "df1 = df1[fs2]\n",
    "df1.shape"
   ]
  },
  {
   "cell_type": "markdown",
   "id": "80600d5e",
   "metadata": {},
   "source": [
    "#### Test Train split"
   ]
  },
  {
   "cell_type": "code",
   "execution_count": 48,
   "id": "1853943b",
   "metadata": {},
   "outputs": [],
   "source": [
    "X_train, X_test, y_train, y_test = train_test_split( df1.drop(labels=['label'], axis=1), df1['label'], test_size=0.3, random_state=100)"
   ]
  },
  {
   "cell_type": "code",
   "execution_count": 49,
   "id": "00bfea74",
   "metadata": {},
   "outputs": [],
   "source": [
    "from sklearn.naive_bayes import GaussianNB\n",
    "from sklearn.neighbors import KNeighborsClassifier\n",
    "from sklearn.ensemble import RandomForestClassifier, AdaBoostClassifier\n",
    "from sklearn import linear_model #Linear Regression\n",
    "#from sklearn.linear_model import LogisticRegression\n",
    "from sklearn.tree import DecisionTreeClassifier\n",
    "from sklearn.svm import SVC   #SVM\n",
    "from sklearn.linear_model import SGDClassifier\n",
    "\n",
    "\n",
    "from sklearn.metrics import confusion_matrix\n",
    "from sklearn.metrics import precision_score, recall_score, f1_score, accuracy_score\n",
    "from sklearn.metrics import classification_report"
   ]
  },
  {
   "cell_type": "code",
   "execution_count": 50,
   "id": "3133575e",
   "metadata": {},
   "outputs": [
    {
     "name": "stdout",
     "output_type": "stream",
     "text": [
      "--------Applying GaussianNB Classifier ----------\n",
      "--------Applying KNeighborsClassifier Classifier ----------\n",
      "--------Applying RandomForestClassifier Classifier ----------\n",
      "--------Applying AdaBoostClassifier Classifier ----------\n",
      "--------Applying LogisticRegression Classifier ----------\n"
     ]
    },
    {
     "name": "stderr",
     "output_type": "stream",
     "text": [
      "c:\\Users\\Ritik Jangid\\AppData\\Local\\Programs\\Python\\Python310\\lib\\site-packages\\sklearn\\linear_model\\_logistic.py:814: ConvergenceWarning: lbfgs failed to converge (status=1):\n",
      "STOP: TOTAL NO. of ITERATIONS REACHED LIMIT.\n",
      "\n",
      "Increase the number of iterations (max_iter) or scale the data as shown in:\n",
      "    https://scikit-learn.org/stable/modules/preprocessing.html\n",
      "Please also refer to the documentation for alternative solver options:\n",
      "    https://scikit-learn.org/stable/modules/linear_model.html#logistic-regression\n",
      "  n_iter_i = _check_optimize_result(\n"
     ]
    },
    {
     "name": "stdout",
     "output_type": "stream",
     "text": [
      "--------Applying DecisionTree Classifier ----------\n",
      "--------Applying Stochastic Gradient Descent ----------\n",
      "--------Applying Support Vector Classifier ----------\n"
     ]
    }
   ],
   "source": [
    "print('--------Applying GaussianNB Classifier ----------')\n",
    "gnb = GaussianNB()\n",
    "gnb_fit = gnb.fit(X_train, y_train)  \n",
    "gnb_prediction = gnb.predict(X_test) \n",
    "\n",
    "\n",
    "print('--------Applying KNeighborsClassifier Classifier ----------')\n",
    "KNN_model = KNeighborsClassifier(n_neighbors=5)\n",
    "KNN_model.fit(X_train, y_train)\n",
    "KNN_prediction = KNN_model.predict(X_test)\n",
    "\n",
    "print('--------Applying RandomForestClassifier Classifier ----------')\n",
    "RF = RandomForestClassifier(max_depth=10, random_state=100)  \n",
    "RF.fit(X_train, y_train)\n",
    "RF_prediction = RF.predict(X_test)\n",
    "\n",
    "\n",
    "print('--------Applying AdaBoostClassifier Classifier ----------')\n",
    "AB = AdaBoostClassifier()\n",
    "AB.fit(X_train, y_train)\n",
    "AB_prediction = AB.predict(X_test)\n",
    "\n",
    "\n",
    "print('--------Applying LogisticRegression Classifier ----------')\n",
    "#LogR = LogisticRegression()\n",
    "LogR = linear_model.LogisticRegression()\n",
    "LogR.fit(X_train, y_train)\n",
    "LogR_prediction = LogR.predict(X_test)\n",
    "\n",
    "print('--------Applying DecisionTree Classifier ----------')\n",
    "DT = DecisionTreeClassifier(criterion = \"gini\", random_state = 100, max_depth=10, min_samples_leaf=5)\n",
    "DT.fit(X_train, y_train)\n",
    "DT_prediction = DT.predict(X_test)\n",
    "\n",
    "print('--------Applying Stochastic Gradient Descent ----------')\n",
    "SGD = SGDClassifier(loss='modified_huber', shuffle=True, random_state=101)\n",
    "SGD.fit(X_train, y_train)\n",
    "SGD_prediction = SGD.predict(X_test)\n",
    "\n",
    "print('--------Applying Support Vector Classifier ----------')\n",
    "SVM = SVC(kernel='linear', random_state = 1)\n",
    "SVM.fit(X_train, y_train)\n",
    "SVM_prediction = SVM.predict(X_test)"
   ]
  },
  {
   "cell_type": "code",
   "execution_count": 51,
   "id": "881749b3",
   "metadata": {},
   "outputs": [
    {
     "name": "stdout",
     "output_type": "stream",
     "text": [
      "-------Performance Evaluation----------\n",
      "type(results):  <class 'list'>\n",
      "results:  [('LR', '', '', '', ''), ('Classifier', 'Accurary', 'Precision', 'Recall', 'F1-Score'), ('NB ', 79.63044745535163, 99.70475582508777, 52.08637292092209, 68.42638481969277), ('KNN ', 99.64669928809906, 99.7074679259476, 99.45808495560465, 99.58262030969573), ('RF ', 99.70676040912223, 99.78683385579937, 99.52061361457335, 99.65354593646951), ('AB ', 99.55484110300482, 99.4459025955089, 99.50393930551503, 99.47491248541424), ('LogR ', 95.28696850324152, 90.35164086452932, 99.50393930551503, 94.70718933502619), ('DT ', 99.69439488420569, 99.79926396788224, 99.47892784192754, 99.6388384376109), ('SGD ', 95.28343549612252, 90.33564157868847, 99.51644503730877, 94.7040622024754), ('SVM ', 95.33289759578865, 90.41614601082965, 99.53728792363167, 94.75772848128895)]\n",
      "type(df_results):  <class 'pandas.core.frame.DataFrame'>\n",
      "df_results:              0          1          2          3          4\n",
      "0          LR                                            \n",
      "1  Classifier   Accurary  Precision     Recall   F1-Score\n",
      "2         NB   79.630447  99.704756  52.086373  68.426385\n",
      "3        KNN   99.646699  99.707468  99.458085   99.58262\n",
      "4         RF    99.70676  99.786834  99.520614  99.653546\n",
      "5         AB   99.554841  99.445903  99.503939  99.474912\n",
      "6       LogR   95.286969  90.351641  99.503939  94.707189\n",
      "7         DT   99.694395  99.799264  99.478928  99.638838\n",
      "8        SGD   95.283435  90.335642  99.516445  94.704062\n",
      "9        SVM   95.332898  90.416146  99.537288  94.757728\n"
     ]
    }
   ],
   "source": [
    "print('-------Performance Evaluation----------')\n",
    "#precision_score, recall_score, f1_score, accuracy_score\n",
    "results = []\n",
    "selector = 'LR'\n",
    "results.append((selector,'','', '',''))\n",
    "results.append(('Classifier','Accurary','Precision', 'Recall','F1-Score'))\n",
    "results.append(('NB ', accuracy_score(y_test,  gnb_prediction)*100,\n",
    "                precision_score(y_test,  gnb_prediction)*100,\n",
    "                recall_score(y_test,  gnb_prediction)*100,\n",
    "                f1_score(y_test,  gnb_prediction)*100))\n",
    "results.append(('KNN ', accuracy_score(y_test, KNN_prediction)*100,\n",
    "                precision_score(y_test, KNN_prediction)*100,\n",
    "                recall_score(y_test, KNN_prediction)*100,\n",
    "                f1_score(y_test, KNN_prediction)*100))\n",
    "results.append(('RF ', accuracy_score(y_test,  RF_prediction)*100,\n",
    "                precision_score(y_test,  RF_prediction)*100,\n",
    "                recall_score(y_test,  RF_prediction)*100,\n",
    "                f1_score(y_test,  RF_prediction)*100))\n",
    "results.append(('AB ', accuracy_score(y_test,  AB_prediction)*100,\n",
    "                precision_score(y_test,  AB_prediction)*100,\n",
    "                recall_score(y_test,  AB_prediction)*100,\n",
    "                f1_score(y_test,  AB_prediction)*100))\n",
    "results.append(('LogR ', accuracy_score(y_test,  LogR_prediction)*100,\n",
    "                precision_score(y_test,  LogR_prediction)*100,\n",
    "                recall_score(y_test,  LogR_prediction)*100,\n",
    "                f1_score(y_test,  LogR_prediction)*100))\n",
    "results.append(('DT ', accuracy_score(y_test,  DT_prediction)*100,\n",
    "                precision_score(y_test,  DT_prediction)*100,\n",
    "                recall_score(y_test,  DT_prediction)*100,\n",
    "                f1_score(y_test,  DT_prediction)*100))\n",
    "\n",
    "\n",
    "results.append(('SGD ', accuracy_score(y_test,  SGD_prediction)*100,\n",
    "                precision_score(y_test,  SGD_prediction)*100,\n",
    "                recall_score(y_test,  SGD_prediction)*100,\n",
    "                f1_score(y_test,  SGD_prediction)*100))\n",
    "results.append(('SVM ', accuracy_score(y_test,  SVM_prediction)*100,\n",
    "                precision_score(y_test,  SVM_prediction)*100,\n",
    "                recall_score(y_test,  SVM_prediction)*100,\n",
    "                f1_score(y_test,  SVM_prediction)*100))\n",
    "\n",
    "print('type(results): ', type(results))\n",
    "print('results: ', results)\n",
    "df_results = pd.DataFrame(results)\n",
    "print('type(df_results): ', type(df_results))\n",
    "print('df_results: ', df_results)"
   ]
  },
  {
   "cell_type": "code",
   "execution_count": 52,
   "id": "a41131df",
   "metadata": {},
   "outputs": [
    {
     "data": {
      "image/png": "[encoded data removed]",
      "text/plain": [
       "<Figure size 1440x720 with 1 Axes>"
      ]
     },
     "metadata": {
      "needs_background": "light"
     },
     "output_type": "display_data"
    }
   ],
   "source": [
    "import matplotlib.pyplot as plt \n",
    "plt.figure(figsize=(20,10))\n",
    "\n",
    "X_axis = np.arange(len(results)-2)\n",
    "models_name = [x[0] for x in results[2:]]\n",
    "\n",
    "accuracy_list = [x[1] for x in results[2:]]\n",
    "precision_list = [x[2] for x in results[2:]]\n",
    "recall_list = [x[3] for x in results[2:]]\n",
    "f1_list = [x[4] for x in results[2:]]\n",
    "\n",
    "\n",
    "plt.bar(X_axis - 0.3, accuracy_list, 0.2, label = 'Accurary')\n",
    "plt.bar(X_axis - 0.1, precision_list, 0.2, label = 'Precision')\n",
    "plt.bar(X_axis + 0.1, recall_list, 0.2, label = 'Recall')\n",
    "plt.bar(X_axis + 0.3, f1_list, 0.2, label = 'F1-Score')\n",
    "\n",
    "  \n",
    "plt.xticks(X_axis, models_name)\n",
    "plt.xlabel(\"Classification Model\")\n",
    "plt.ylabel(\"Score\")\n",
    "plt.title(\"Performance of classification models\")\n",
    "plt.legend()\n",
    "plt.show()"
   ]
  },
  {
   "cell_type": "code",
   "execution_count": 53,
   "id": "877fc486",
   "metadata": {},
   "outputs": [
    {
     "data": {
      "image/png": "[encoded data removed]",
      "text/plain": [
       "<Figure size 1080x576 with 8 Axes>"
      ]
     },
     "metadata": {
      "needs_background": "light"
     },
     "output_type": "display_data"
    }
   ],
   "source": [
    "import seaborn as sns\n",
    "\n",
    "fig, axn = plt.subplots(4,2, sharex=False, sharey=False,figsize=(15,8))\n",
    "\n",
    "cf_matrix_list = [confusion_matrix(y_test,gnb_prediction),\n",
    "                confusion_matrix(y_test,KNN_prediction),\n",
    "                confusion_matrix(y_test,RF_prediction),\n",
    "                confusion_matrix(y_test,AB_prediction),\n",
    "                confusion_matrix(y_test,LogR_prediction),\n",
    "                confusion_matrix(y_test,DT_prediction),\n",
    "                confusion_matrix(y_test,SGD_prediction),\n",
    "                confusion_matrix(y_test,SVM_prediction)]\n",
    "\n",
    "for i, ax in enumerate(axn.flat):\n",
    "    sns.heatmap(cf_matrix_list[i], ax=ax, square=False, annot=True, cmap='Blues', fmt='d', cbar=False)\n",
    "    ax.set_title(models_name[i],fontsize=12)\n",
    "\n",
    "fig.tight_layout()\n"
   ]
  },
  {
   "cell_type": "code",
   "execution_count": null,
   "id": "6e3a05c0",
   "metadata": {},
   "outputs": [],
   "source": []
  }
 ],
 "metadata": {
  "interpreter": {
   "hash": "dfd65097fb86c9017fbe87f79c9215c68d6889f406d15855817f52912d4a22ad"
  },
  "kernelspec": {
   "display_name": "Python 3.10.2 64-bit",
   "language": "python",
   "name": "python3"
  },
  "language_info": {
   "codemirror_mode": {
    "name": "ipython",
    "version": 3
   },
   "file_extension": ".py",
   "mimetype": "text/x-python",
   "name": "python",
   "nbconvert_exporter": "python",
   "pygments_lexer": "ipython3",
   "version": "3.10.2"
  }
 },
 "nbformat": 4,
 "nbformat_minor": 5
}
